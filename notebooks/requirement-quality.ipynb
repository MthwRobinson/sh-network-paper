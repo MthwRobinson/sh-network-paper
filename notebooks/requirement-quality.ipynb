{
 "cells": [
  {
   "cell_type": "code",
   "execution_count": 1,
   "metadata": {},
   "outputs": [],
   "source": [
    "import json\n",
    "import os\n",
    "import re\n",
    "\n",
    "from bs4 import BeautifulSoup\n",
    "import pandas as pd\n",
    "import psycopg2\n",
    "from matplotlib import pyplot as plt\n",
    "import numpy as np\n",
    "import pandas as pd\n",
    "from patsy import dmatrices\n",
    "import scipy.stats\n",
    "import seaborn as sns\n",
    "import statsmodels.api as sm\n",
    "import statsmodels.stats.api as sms"
   ]
  },
  {
   "cell_type": "code",
   "execution_count": 2,
   "metadata": {},
   "outputs": [],
   "source": [
    "connection = psycopg2.connect(host=\"localhost\", dbname=\"postgres\", user=\"postgres\", port=5432)"
   ]
  },
  {
   "cell_type": "code",
   "execution_count": 3,
   "metadata": {},
   "outputs": [],
   "source": [
    "commit_pct = pd.read_sql(\"SELECT DISTINCT user_id, package_id, commit_pct FROM open_source.issue_contributors\", connection)"
   ]
  },
  {
   "cell_type": "code",
   "execution_count": 4,
   "metadata": {},
   "outputs": [],
   "source": [
    "language = pd.read_sql(\"SELECT id as package_id, language FROM open_source.packages\", connection)"
   ]
  },
  {
   "cell_type": "code",
   "execution_count": 5,
   "metadata": {},
   "outputs": [],
   "source": [
    "query = \"\"\"\n",
    "SELECT COUNT(*) as total_user_issues, package_id, user_id\n",
    "FROM open_source.issue_contributors\n",
    "GROUP BY package_id, user_id\n",
    "\"\"\""
   ]
  },
  {
   "cell_type": "code",
   "execution_count": 6,
   "metadata": {},
   "outputs": [],
   "source": [
    "total_user_issues = pd.read_sql(query, connection)"
   ]
  },
  {
   "cell_type": "code",
   "execution_count": 7,
   "metadata": {},
   "outputs": [],
   "source": [
    "query = \"\"\"\n",
    "SELECT COUNT(*) as total_user_comments, package, organization, user_id\n",
    "FROM open_source.issue_comments\n",
    "GROUP BY package, organization, user_id\n",
    "\"\"\""
   ]
  },
  {
   "cell_type": "code",
   "execution_count": 8,
   "metadata": {},
   "outputs": [],
   "source": [
    "total_user_comments = pd.read_sql(query, connection)"
   ]
  },
  {
   "cell_type": "code",
   "execution_count": 9,
   "metadata": {},
   "outputs": [],
   "source": [
    "query = \"\"\"\n",
    "    SELECT id as package_id, package_name as package, org_name as organization\n",
    "    FROM open_source.packages\n",
    "\"\"\""
   ]
  },
  {
   "cell_type": "code",
   "execution_count": 10,
   "metadata": {},
   "outputs": [],
   "source": [
    "packages = pd.read_sql(query, connection)\n",
    "package_lookup = dict()\n",
    "for i in packages.index:\n",
    "    package_lookup[packages.loc[i]['package_id']] = (packages.loc[i]['package'], packages.loc[i]['organization'])"
   ]
  },
  {
   "cell_type": "code",
   "execution_count": 11,
   "metadata": {},
   "outputs": [],
   "source": [
    "with open(\"/home/matt/data/tagtog_requirement_quality_650/requirement_quality/annotations-legend.json\", \"r\") as f:\n",
    "    annotations_legend = json.load(f)"
   ]
  },
  {
   "cell_type": "code",
   "execution_count": 12,
   "metadata": {},
   "outputs": [],
   "source": [
    "HTML_DIR = \"/home/matt/data/tagtog_requirement_quality_650/requirement_quality/plain.html/pool\"\n",
    "filenames = os.listdir(HTML_DIR)\n",
    "\n",
    "filename_lookup = dict()\n",
    "for filename in filenames:\n",
    "    with open(os.path.join(HTML_DIR, filename)) as f:\n",
    "        html = BeautifulSoup(f).find(\"html\")\n",
    "        if html:\n",
    "            filename_lookup[html['id']] = html['data-origid']"
   ]
  },
  {
   "cell_type": "code",
   "execution_count": 13,
   "metadata": {},
   "outputs": [],
   "source": [
    "ANNO_DIR = \"/home/matt/data/tagtog_requirement_quality_650/requirement_quality/ann.json/master/pool\"\n",
    "filenames = os.listdir(ANNO_DIR)\n",
    "\n",
    "data = {\"issue_id\": [], \"user_id\": [], \"package_id\":[], \"package\": [], \"organization\": []}\n",
    "for value in annotations_legend.values():\n",
    "    data[value] = []\n",
    "\n",
    "for filename in filenames:\n",
    "    try:\n",
    "        orig_filename = filename_lookup[filename.replace(\".ann.json\", \"\")]\n",
    "    except KeyError:\n",
    "        continue\n",
    "    \n",
    "    with open(os.path.join(ANNO_DIR, filename), \"r\") as f:\n",
    "        labels = json.load(f)\n",
    "        \n",
    "    for key, value in annotations_legend.items():\n",
    "        data[value].append(labels['metas'].get(key, {\"value\": False})[\"value\"])\n",
    "    \n",
    "    \n",
    "    package_id, user_id, issue_id = tuple(orig_filename.split(\"-\"))\n",
    "    package, organization = package_lookup[package_id]\n",
    "\n",
    "    data[\"package_id\"].append(package_id)\n",
    "    data[\"issue_id\"].append(issue_id)\n",
    "    data[\"user_id\"].append(user_id)\n",
    "    data[\"package\"].append(package)\n",
    "    data[\"organization\"].append(organization)\n",
    "    \n",
    "data = pd.DataFrame(data)"
   ]
  },
  {
   "cell_type": "code",
   "execution_count": 14,
   "metadata": {},
   "outputs": [],
   "source": [
    "github_data = pd.read_csv(\"../github_data.csv\")\n",
    "similarity_data = pd.read_csv(\"../similarity_data.csv\")\n",
    "reqs_data = pd.read_csv(\"~/data/requirement_quality.csv\")\n",
    "\n",
    "reqs_data[\"user_id\"] = reqs_data[\"user_id\"].astype(str)\n",
    "reqs_data[\"issue_id\"] = reqs_data[\"issue_id\"].astype(str)"
   ]
  },
  {
   "cell_type": "code",
   "execution_count": 15,
   "metadata": {},
   "outputs": [],
   "source": [
    "data = data.merge(github_data, how=\"inner\", on=[\"package\", \"organization\", \"package_id\"])\n",
    "data = data.merge(reqs_data, how=\"inner\", on=[\"package_id\", \"user_id\", \"issue_id\", \"package\", \"organization\"])\n",
    "data = data.merge(total_user_issues, how=\"inner\", on=[\"package_id\", \"user_id\"])\n",
    "data = data.merge(total_user_comments, how=\"inner\", on=[\"package\", \"organization\", \"user_id\"])\n",
    "data = data.merge(similarity_data, how=\"inner\", on=[\"package_id\"])\n",
    "data = data.merge(commit_pct, how=\"inner\", on=[\"package_id\", \"user_id\"])\n",
    "data = data.merge(language, how=\"inner\", on=[\"package_id\"])"
   ]
  },
  {
   "cell_type": "code",
   "execution_count": 16,
   "metadata": {},
   "outputs": [],
   "source": [
    "data[\"req_quality\"] = 0\n",
    "for key in annotations_legend.values():\n",
    "    data[key] = data[key].astype(int)\n",
    "    data[\"req_quality\"] += data[key]"
   ]
  },
  {
   "cell_type": "code",
   "execution_count": 17,
   "metadata": {},
   "outputs": [],
   "source": [
    "data['issue_length'] = data[\"body\"].apply(lambda x: len(x))"
   ]
  },
  {
   "cell_type": "code",
   "execution_count": 18,
   "metadata": {},
   "outputs": [
    {
     "data": {
      "image/png": "[encoded data removed]",
      "text/plain": [
       "<Figure size 432x288 with 1 Axes>"
      ]
     },
     "metadata": {
      "needs_background": "light"
     },
     "output_type": "display_data"
    }
   ],
   "source": [
    "bins = np.linspace(0, 10, 11)\n",
    "\n",
    "plt.hist(data[data['contributor'] == True]['req_quality'], bins, alpha=0.5, label='contributor')\n",
    "plt.hist(data[data['contributor'] == False]['req_quality'], bins, alpha=0.5, label='non-contributor')\n",
    "plt.legend(loc='upper right')\n",
    "plt.show()"
   ]
  },
  {
   "cell_type": "code",
   "execution_count": 19,
   "metadata": {},
   "outputs": [
    {
     "name": "stdout",
     "output_type": "stream",
     "text": [
      "package_3fccd9f1b3b0419fa028615e9cf39ed6 - 37\n",
      "package_ab744db5ca5949d29d101293d7804811 - 32\n",
      "package_6d8b278d51ff412096368f4a48280546 - 26\n",
      "package_4d8c8752a3bb4c8a87d04ecf93603f67 - 26\n",
      "package_170d4a8b6fc64dad8545d46c09cca126 - 24\n",
      "package_4e4a7c109bdb4d4b8cd175f65e3a0790 - 19\n",
      "package_6a36e03c0f1441b49faa8f6f78509b9b - 19\n",
      "package_108f135ddec84117a774448e7e2b49d3 - 17\n",
      "package_ae03aa731d6c4b93a003d63cd90e7bc2 - 16\n",
      "package_4db515f7cdac4214a30c071d3c986761 - 15\n",
      "package_5f0b93551fd94e84b31a0ee1425b8a55 - 14\n",
      "package_6af468b3b683484e918f236be48cf041 - 13\n",
      "package_aca070379940455cbca1170e1660d740 - 12\n",
      "package_4a5b669af00e499592e5dbc9c6e2c1cf - 10\n",
      "package_b1c8e40c801b46e180494f4908324517 - 10\n",
      "package_6b45e442fbd14de8ae87462c14b46ee6 - 10\n",
      "package_6baab5e7e498456bb300a9fd8243591e - 10\n",
      "package_143dd72ce61147c08edcfb10f625a088 - 9\n",
      "package_6c49f1fed3bc497b8ee42551fcb7f4df - 9\n",
      "package_4f9984fc47454f53b9bf762de94e3b27 - 9\n",
      "package_7ab696761a1f413cbf81ca5e82151e86 - 8\n",
      "package_98b1acab9bfc47c18897e1f09cee9bdd - 8\n",
      "package_119e7d3b4fba4888a45181c747cf2a96 - 8\n",
      "package_6eb23f061b0b4edfa671611443dd0f1b - 7\n",
      "package_adfa962062524bc7980ace44031ba7dd - 7\n",
      "package_96d73b9b18af4ed280fa296fa6905cd3 - 7\n",
      "package_5a9e71f75ab143b7a1850eb9e45b96da - 7\n",
      "package_5be355de6ab14c1bbd6ab96672a2f5b3 - 7\n",
      "package_3ed894cb177846468b9db0f3438f0fdc - 6\n",
      "package_86f0964810524734a8ec13210fb68cbe - 6\n",
      "package_110ae46a6ad8478eba44751bce26f2cf - 6\n",
      "package_5a1527f7a37548aa97e68aa30c2769e6 - 6\n",
      "package_3f404567f1814a1ebca0d8cbbd3ac4e3 - 6\n",
      "package_ae01297b73c146b5b989e25c4276bb8b - 6\n",
      "package_add12aefe99b4d6d863f3a54a9ebd84a - 5\n",
      "package_218ced56297f4af9a67e2f1f2e56ecb9 - 5\n",
      "package_4b9220624af2487985fc369518180a1f - 5\n",
      "package_99e23173c58440de9db21a5ce851f8ee - 4\n",
      "package_4ff163c4b4aa4ab3a37f2e42f63000c8 - 4\n",
      "package_4c1fa1ac81804ca7aa324a171e40d425 - 4\n",
      "package_4c1dcf5dd7e94bc18968e86cc414a1d9 - 4\n",
      "package_4ec43b04aef84be18893319d07b7695a - 4\n",
      "package_95cdc1e4d6de496d90b433ec6342bfd8 - 4\n",
      "package_adb81f45452a4276bd0868043104900b - 4\n",
      "package_133c3445a1094c328a0294343a57bc81 - 4\n",
      "package_5f16e306876949bbb1107218d89b6d03 - 3\n",
      "package_97dfeec741464263b9d899b0417f2c8b - 3\n",
      "package_5af1f7a3711043708fcbeafda4930ed5 - 3\n",
      "package_93b2b57397444829bc48018be938a263 - 3\n",
      "package_7a3208a0502845adb0e166537fd3c208 - 3\n",
      "package_3fa585c4422a46999b110ce9d64c7695 - 3\n",
      "package_4b6ee8c5e46741c7aaddc3ca489bcb3b - 3\n",
      "package_4f7b1e28f00445658eeb5bcd545619ba - 3\n",
      "package_6d3e59fffd6a4e41b13418ec59cf4f25 - 2\n",
      "package_165af30e455148db94bf7ec31c28f1e9 - 2\n",
      "package_6b07e0fafe704651951d55f56dcfeab4 - 2\n",
      "package_92c19d30839949ffafd49ff20b7735d4 - 2\n",
      "package_3f19b97ff8dc4d7092eb3045437ec8bc - 2\n",
      "package_6c7a1e7386854e7395ff6e7e02206011 - 2\n",
      "package_7ac6d118957b4ba09b367b206eb98e01 - 2\n",
      "package_5bde6150d2d746afb1fc4926402b5025 - 2\n",
      "package_96f37a3138774807b0ab52709b68b229 - 2\n",
      "package_6f165e2fd5f94753a30eaf3535a14779 - 2\n",
      "package_94eaf9c66156474da8f648277869c74e - 1\n",
      "package_035fa32185ae484ab464a6a8cb8c3f78 - 1\n",
      "package_4ae1a7fe4dcb4c6da6f9f88051736572 - 1\n",
      "package_ac750e0239374c41946f0c0a9ed1048e - 1\n",
      "package_6e90e26daa914e938964ec1ea044e2f7 - 1\n",
      "package_b0cd2bcc80fe4c189675c6b55ef1d9a7 - 1\n",
      "package_188bb148b8b54aa7ae6c5c4c58719aa9 - 1\n",
      "package_5e9eaa48a0b246bda655dba4e5048332 - 1\n",
      "package_6cee79bb06e44296b751612df560787f - 1\n",
      "package_5b77ce60c94a4d96a89e5aec17531a7a - 1\n"
     ]
    }
   ],
   "source": [
    "for package_id, count in dict(data['package_id'].value_counts()).items():\n",
    "    if count > 10:\n",
    "        data[f\"package_{package_id}\"] = (data['package_id'] == package_id).astype(int)\n",
    "    print(f\"package_{package_id} - {count}\")"
   ]
  },
  {
   "cell_type": "code",
   "execution_count": 20,
   "metadata": {},
   "outputs": [
    {
     "data": {
      "text/plain": [
       "count                                  533\n",
       "unique                                  73\n",
       "top       3fccd9f1b3b0419fa028615e9cf39ed6\n",
       "freq                                    37\n",
       "Name: package_id, dtype: object"
      ]
     },
     "execution_count": 20,
     "metadata": {},
     "output_type": "execute_result"
    }
   ],
   "source": [
    "data['package_id'].describe()"
   ]
  },
  {
   "cell_type": "code",
   "execution_count": 21,
   "metadata": {},
   "outputs": [
    {
     "data": {
      "text/plain": [
       "javascript    188\n",
       "cpp           125\n",
       "python        107\n",
       "java           69\n",
       "php            44\n",
       "Name: language, dtype: int64"
      ]
     },
     "execution_count": 21,
     "metadata": {},
     "output_type": "execute_result"
    }
   ],
   "source": [
    "data['language'].value_counts()"
   ]
  },
  {
   "cell_type": "code",
   "execution_count": 22,
   "metadata": {},
   "outputs": [],
   "source": [
    "data['commit_pct_2'] = data['commit_pct']**2\n",
    "data['similarity_2'] = data['similarity']**2\n",
    "data['issue_length_2'] = data['issue_length']**2\n",
    "data['issue_length_3'] = data['issue_length']**3\n",
    "data['code_blocks'] = data['body'].apply(lambda x: x.count(\"`\"))\n",
    "data['code_blocks_2'] = data['code_blocks']**2\n",
    "data['headings'] = data['body'].apply(lambda x: x.count(\"#\"))\n",
    "data['headings_2'] = data['headings']**2\n",
    "\n",
    "data['links'] = data['body'].apply(lambda x: x.count(\"http\"))\n",
    "data['num_words'] = data['body'].apply(lambda x: len(x.split()))\n",
    "data['num_lines'] = data['body'].apply(lambda x: x.count(\"\\n\"))"
   ]
  },
  {
   "cell_type": "code",
   "execution_count": 23,
   "metadata": {},
   "outputs": [],
   "source": [
    "avg_by_package = data.groupby('package_id').mean()\n",
    "avg_by_package['package_id'] = avg_by_package.index\n",
    "avg_by_package.index = range(len(avg_by_package))\n",
    "avg_by_package['avg_req_quality_package'] = avg_by_package['req_quality']\n",
    "data = data.merge(avg_by_package[['package_id', 'avg_req_quality_package']], on='package_id', how='inner')"
   ]
  },
  {
   "cell_type": "code",
   "execution_count": 24,
   "metadata": {},
   "outputs": [],
   "source": [
    "data['avg_req_quality_package_2'] = data['avg_req_quality_package']**2"
   ]
  },
  {
   "cell_type": "code",
   "execution_count": 25,
   "metadata": {},
   "outputs": [],
   "source": [
    "avg_by_language = data.groupby('language').mean()\n",
    "avg_by_language['language'] = avg_by_language.index\n",
    "avg_by_language.index = range(len(avg_by_language))\n",
    "avg_by_language['avg_req_quality_language'] = avg_by_package['req_quality']\n",
    "data = data.merge(avg_by_language[['language', 'avg_req_quality_language']], on='language', how='inner')"
   ]
  },
  {
   "cell_type": "code",
   "execution_count": 26,
   "metadata": {},
   "outputs": [],
   "source": [
    "down_sample = []\n",
    "for name, group in data.groupby('package_id'):\n",
    "    if len(group) <= 25:\n",
    "        down_sample.append(group)\n",
    "    else:\n",
    "        down_sample.append(group.sample(25))\n",
    "down_sample = pd.concat(down_sample)\n",
    "down_sample.reset_index(inplace=True, drop=True)"
   ]
  },
  {
   "cell_type": "code",
   "execution_count": 27,
   "metadata": {},
   "outputs": [
    {
     "data": {
      "text/plain": [
       "javascript    179\n",
       "cpp           113\n",
       "python        107\n",
       "java           69\n",
       "php            44\n",
       "Name: language, dtype: int64"
      ]
     },
     "execution_count": 27,
     "metadata": {},
     "output_type": "execute_result"
    }
   ],
   "source": [
    "down_sample['language'].value_counts()"
   ]
  },
  {
   "cell_type": "code",
   "execution_count": 28,
   "metadata": {},
   "outputs": [
    {
     "data": {
      "text/plain": [
       "True     287\n",
       "False    225\n",
       "Name: contributor, dtype: int64"
      ]
     },
     "execution_count": 28,
     "metadata": {},
     "output_type": "execute_result"
    }
   ],
   "source": [
    "down_sample['contributor'].value_counts()"
   ]
  },
  {
   "cell_type": "code",
   "execution_count": 29,
   "metadata": {},
   "outputs": [
    {
     "data": {
      "image/png": "[encoded data removed]",
      "text/plain": [
       "<Figure size 432x288 with 1 Axes>"
      ]
     },
     "metadata": {
      "needs_background": "light"
     },
     "output_type": "display_data"
    }
   ],
   "source": [
    "bins = np.linspace(0, 10, 11)\n",
    "\n",
    "plt.hist(down_sample[down_sample['contributor'] == True]['req_quality'], bins, alpha=0.5, label='contributor')\n",
    "plt.hist(down_sample[down_sample['contributor'] == False]['req_quality'], bins, alpha=0.5, label='non-contributor')\n",
    "plt.legend(loc='upper right')\n",
    "plt.show()"
   ]
  },
  {
   "cell_type": "code",
   "execution_count": 30,
   "metadata": {},
   "outputs": [],
   "source": [
    "data['cpp'] = (data['language'] == 'cpp').astype(int)"
   ]
  },
  {
   "cell_type": "code",
   "execution_count": 38,
   "metadata": {},
   "outputs": [
    {
     "name": "stdout",
     "output_type": "stream",
     "text": [
      "11\n",
      "                            OLS Regression Results                            \n",
      "==============================================================================\n",
      "Dep. Variable:            req_quality   R-squared:                       0.281\n",
      "Model:                            OLS   Adj. R-squared:                  0.269\n",
      "Method:                 Least Squares   F-statistic:                     22.75\n",
      "Date:                Sun, 09 Aug 2020   Prob (F-statistic):           9.60e-33\n",
      "Time:                        13:58:47   Log-Likelihood:                -893.87\n",
      "No. Observations:                 533   AIC:                             1808.\n",
      "Df Residuals:                     523   BIC:                             1851.\n",
      "Df Model:                           9                                         \n",
      "Covariance Type:            nonrobust                                         \n",
      "============================================================================================\n",
      "                               coef    std err          t      P>|t|      [0.025      0.975]\n",
      "--------------------------------------------------------------------------------------------\n",
      "Intercept                    1.9263      0.187     10.301      0.000       1.559       2.294\n",
      "contributor[T.True]          0.4373      0.125      3.501      0.001       0.192       0.683\n",
      "language[T.java]            -1.0157      0.176     -5.767      0.000      -1.362      -0.670\n",
      "language[T.javascript]      -0.4179      0.160     -2.606      0.009      -0.733      -0.103\n",
      "language[T.php]             -0.8670      0.223     -3.882      0.000      -1.306      -0.428\n",
      "language[T.python]          -1.0083      0.145     -6.945      0.000      -1.293      -0.723\n",
      "similarity                   4.7964      1.434      3.344      0.001       1.979       7.614\n",
      "avg_req_quality_language     0.2240      0.051      4.415      0.000       0.124       0.324\n",
      "crowd_pct_2                 -0.7502      0.307     -2.441      0.015      -1.354      -0.146\n",
      "code_blocks                  0.0679      0.007      9.320      0.000       0.054       0.082\n",
      "num_words                    0.0007      0.000      2.411      0.016       0.000       0.001\n",
      "==============================================================================\n",
      "Omnibus:                       18.068   Durbin-Watson:                   1.889\n",
      "Prob(Omnibus):                  0.000   Jarque-Bera (JB):               19.848\n",
      "Skew:                           0.400   Prob(JB):                     4.90e-05\n",
      "Kurtosis:                       3.505   Cond. No.                     4.63e+17\n",
      "==============================================================================\n",
      "\n",
      "Warnings:\n",
      "[1] Standard Errors assume that the covariance matrix of the errors is correctly specified.\n",
      "[2] The smallest eigenvalue is 1.59e-28. This might indicate that there are\n",
      "strong multicollinearity problems or that the design matrix is singular.\n"
     ]
    }
   ],
   "source": [
    "formula = \"\"\"\n",
    "req_quality ~ contributor + similarity + language + avg_req_quality_language +\n",
    "crowd_pct_2 + code_blocks + num_words\n",
    "\"\"\"\n",
    "y, X = dmatrices(formula, data=data, return_type='dataframe')\n",
    "mod = sm.OLS(y, X)\n",
    "res = mod.fit()\n",
    "print(len(res.params))\n",
    "print(res.summary())"
   ]
  },
  {
   "cell_type": "code",
   "execution_count": 37,
   "metadata": {},
   "outputs": [
    {
     "data": {
      "text/plain": [
       "Text(0, 0.5, 'Count')"
      ]
     },
     "execution_count": 37,
     "metadata": {},
     "output_type": "execute_result"
    },
    {
     "data": {
      "image/png": "[encoded data removed]",
      "text/plain": [
       "<Figure size 720x360 with 1 Axes>"
      ]
     },
     "metadata": {
      "needs_background": "light"
     },
     "output_type": "display_data"
    }
   ],
   "source": [
    "plt.figure(figsize=(10, 5))\n",
    "sns.distplot(res.resid, kde=False, color='blue', bins=10)\n",
    "plt.title('Model Residuals', fontsize=18)\n",
    "plt.xlabel('Residuals', fontsize=16)\n",
    "plt.ylabel('Count', fontsize=16)\n",
    "#plt.xlim([-2.2, 2.2])"
   ]
  },
  {
   "cell_type": "code",
   "execution_count": 32,
   "metadata": {},
   "outputs": [
    {
     "data": {
      "text/plain": [
       "(-1.0, 10.0)"
      ]
     },
     "execution_count": 32,
     "metadata": {},
     "output_type": "execute_result"
    },
    {
     "data": {
      "image/png": "[encoded data removed]",
      "text/plain": [
       "<Figure size 720x360 with 1 Axes>"
      ]
     },
     "metadata": {
      "needs_background": "light"
     },
     "output_type": "display_data"
    }
   ],
   "source": [
    "data['predictions'] = res.predict(X)\n",
    "\n",
    "plt.figure(figsize=(10, 5))\n",
    "sns.scatterplot(x=data['predictions'], y=data['req_quality'], color='blue')\n",
    "plt.title('Actual vs Predicted', fontsize=18)\n",
    "plt.xlabel('Predicted', fontsize=16)\n",
    "plt.ylabel('Actual', fontsize=16)\n",
    "plt.xlim([-1, 10])\n",
    "plt.ylim([-1, 10])"
   ]
  },
  {
   "cell_type": "code",
   "execution_count": 33,
   "metadata": {},
   "outputs": [
    {
     "name": "stdout",
     "output_type": "stream",
     "text": [
      "13\n",
      "                            OLS Regression Results                            \n",
      "==============================================================================\n",
      "Dep. Variable:            req_quality   R-squared:                       0.456\n",
      "Model:                            OLS   Adj. R-squared:                  0.443\n",
      "Method:                 Least Squares   F-statistic:                     36.28\n",
      "Date:                Sun, 09 Aug 2020   Prob (F-statistic):           4.37e-61\n",
      "Time:                        13:57:45   Log-Likelihood:                -819.80\n",
      "No. Observations:                 533   AIC:                             1666.\n",
      "Df Residuals:                     520   BIC:                             1721.\n",
      "Df Model:                          12                                         \n",
      "Covariance Type:            nonrobust                                         \n",
      "===========================================================================================\n",
      "                              coef    std err          t      P>|t|      [0.025      0.975]\n",
      "-------------------------------------------------------------------------------------------\n",
      "Intercept                  -0.3031      0.224     -1.354      0.176      -0.743       0.137\n",
      "contributor[T.True]         0.2236      0.105      2.132      0.033       0.018       0.430\n",
      "avg_req_quality_package     0.7129      0.073      9.817      0.000       0.570       0.856\n",
      "total_issues                0.0016      0.001      2.343      0.020       0.000       0.003\n",
      "total_contributors         -0.0138      0.007     -2.118      0.035      -0.027      -0.001\n",
      "avg_first_comment           0.0050      0.002      2.412      0.016       0.001       0.009\n",
      "headings                    0.1053      0.029      3.687      0.000       0.049       0.161\n",
      "headings_2                 -0.0030      0.001     -2.807      0.005      -0.005      -0.001\n",
      "code_blocks                 0.0869      0.015      5.949      0.000       0.058       0.116\n",
      "code_blocks_2              -0.0015      0.000     -3.249      0.001      -0.002      -0.001\n",
      "issue_length                0.0004   8.19e-05      5.268      0.000       0.000       0.001\n",
      "issue_length_2          -3.406e-08   7.87e-09     -4.326      0.000   -4.95e-08   -1.86e-08\n",
      "issue_length_3           7.196e-13   1.97e-13      3.660      0.000    3.33e-13    1.11e-12\n",
      "==============================================================================\n",
      "Omnibus:                        9.822   Durbin-Watson:                   2.077\n",
      "Prob(Omnibus):                  0.007   Jarque-Bera (JB):                9.826\n",
      "Skew:                           0.323   Prob(JB):                      0.00735\n",
      "Kurtosis:                       3.158   Cond. No.                     2.61e+13\n",
      "==============================================================================\n",
      "\n",
      "Warnings:\n",
      "[1] Standard Errors assume that the covariance matrix of the errors is correctly specified.\n",
      "[2] The condition number is large, 2.61e+13. This might indicate that there are\n",
      "strong multicollinearity or other numerical problems.\n"
     ]
    }
   ],
   "source": [
    "formula = \"\"\"\n",
    "req_quality ~ contributor + avg_req_quality_package + \n",
    "total_issues + total_contributors + avg_first_comment +\n",
    "headings + headings_2 + \n",
    "code_blocks + code_blocks_2 + issue_length + issue_length_2 + issue_length_3\n",
    "\"\"\"\n",
    "y, X = dmatrices(formula, data=data, return_type='dataframe')\n",
    "mod = sm.OLS(y, X)\n",
    "res = mod.fit()\n",
    "print(len(res.params))\n",
    "print(res.summary())"
   ]
  },
  {
   "cell_type": "code",
   "execution_count": 34,
   "metadata": {},
   "outputs": [
    {
     "data": {
      "text/plain": [
       "Text(0, 0.5, 'Count')"
      ]
     },
     "execution_count": 34,
     "metadata": {},
     "output_type": "execute_result"
    },
    {
     "data": {
      "image/png": "[encoded data removed]",
      "text/plain": [
       "<Figure size 720x360 with 1 Axes>"
      ]
     },
     "metadata": {
      "needs_background": "light"
     },
     "output_type": "display_data"
    }
   ],
   "source": [
    "plt.figure(figsize=(10, 5))\n",
    "sns.distplot(res.resid, kde=False, color='blue', bins=10)\n",
    "plt.title('Model Residuals', fontsize=18)\n",
    "plt.xlabel('Residuals', fontsize=16)\n",
    "plt.ylabel('Count', fontsize=16)\n",
    "#plt.xlim([-2.2, 2.2])"
   ]
  },
  {
   "cell_type": "code",
   "execution_count": 35,
   "metadata": {},
   "outputs": [
    {
     "data": {
      "text/plain": [
       "(-1.0, 10.0)"
      ]
     },
     "execution_count": 35,
     "metadata": {},
     "output_type": "execute_result"
    },
    {
     "data": {
      "image/png": "[encoded data removed]",
      "text/plain": [
       "<Figure size 720x360 with 1 Axes>"
      ]
     },
     "metadata": {
      "needs_background": "light"
     },
     "output_type": "display_data"
    }
   ],
   "source": [
    "data['predictions'] = res.predict(X)\n",
    "\n",
    "plt.figure(figsize=(10, 5))\n",
    "sns.scatterplot(x=data['predictions'], y=data['req_quality'], color='blue')\n",
    "plt.title('Actual vs Predicted', fontsize=18)\n",
    "plt.xlabel('Predicted', fontsize=16)\n",
    "plt.ylabel('Actual', fontsize=16)\n",
    "plt.xlim([-1, 10])\n",
    "plt.ylim([-1, 10])"
   ]
  },
  {
   "cell_type": "code",
   "execution_count": null,
   "metadata": {},
   "outputs": [],
   "source": []
  }
 ],
 "metadata": {
  "kernelspec": {
   "display_name": "Python 3",
   "language": "python",
   "name": "python3"
  },
  "language_info": {
   "codemirror_mode": {
    "name": "ipython",
    "version": 3
   },
   "file_extension": ".py",
   "mimetype": "text/x-python",
   "name": "python",
   "nbconvert_exporter": "python",
   "pygments_lexer": "ipython3",
   "version": "3.8.2"
  }
 },
 "nbformat": 4,
 "nbformat_minor": 4
}
