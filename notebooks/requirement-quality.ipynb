{
 "cells": [
  {
   "cell_type": "code",
   "execution_count": 1,
   "metadata": {},
   "outputs": [],
   "source": [
    "import json\n",
    "import os\n",
    "import re\n",
    "\n",
    "from bs4 import BeautifulSoup\n",
    "import pandas as pd\n",
    "import psycopg2\n",
    "from matplotlib import pyplot as plt\n",
    "import numpy as np\n",
    "import pandas as pd\n",
    "from patsy import dmatrices\n",
    "import scipy.stats\n",
    "import seaborn as sns\n",
    "import statsmodels.api as sm\n",
    "import statsmodels.stats.api as sms"
   ]
  },
  {
   "cell_type": "code",
   "execution_count": 2,
   "metadata": {},
   "outputs": [],
   "source": [
    "connection = psycopg2.connect(host=\"localhost\", dbname=\"postgres\", user=\"postgres\", port=5432)"
   ]
  },
  {
   "cell_type": "code",
   "execution_count": 3,
   "metadata": {},
   "outputs": [],
   "source": [
    "commit_pct = pd.read_sql(\"SELECT DISTINCT user_id, package_id, commit_pct FROM open_source.issue_contributors\", connection)"
   ]
  },
  {
   "cell_type": "code",
   "execution_count": 4,
   "metadata": {},
   "outputs": [],
   "source": [
    "language = pd.read_sql(\"SELECT id as package_id, language FROM open_source.packages\", connection)"
   ]
  },
  {
   "cell_type": "code",
   "execution_count": 5,
   "metadata": {},
   "outputs": [],
   "source": [
    "query = \"\"\"\n",
    "SELECT COUNT(*) as total_user_issues, package_id, user_id\n",
    "FROM open_source.issue_contributors\n",
    "GROUP BY package_id, user_id\n",
    "\"\"\""
   ]
  },
  {
   "cell_type": "code",
   "execution_count": 6,
   "metadata": {},
   "outputs": [],
   "source": [
    "total_user_issues = pd.read_sql(query, connection)"
   ]
  },
  {
   "cell_type": "code",
   "execution_count": 7,
   "metadata": {},
   "outputs": [],
   "source": [
    "query = \"\"\"\n",
    "SELECT COUNT(*) as total_user_comments, package, organization, user_id\n",
    "FROM open_source.issue_comments\n",
    "GROUP BY package, organization, user_id\n",
    "\"\"\""
   ]
  },
  {
   "cell_type": "code",
   "execution_count": 8,
   "metadata": {},
   "outputs": [],
   "source": [
    "total_user_comments = pd.read_sql(query, connection)"
   ]
  },
  {
   "cell_type": "code",
   "execution_count": 9,
   "metadata": {},
   "outputs": [],
   "source": [
    "query = \"\"\"\n",
    "    SELECT id as package_id, package_name as package, org_name as organization\n",
    "    FROM open_source.packages\n",
    "\"\"\""
   ]
  },
  {
   "cell_type": "code",
   "execution_count": 10,
   "metadata": {},
   "outputs": [],
   "source": [
    "packages = pd.read_sql(query, connection)\n",
    "package_lookup = dict()\n",
    "for i in packages.index:\n",
    "    package_lookup[packages.loc[i]['package_id']] = (packages.loc[i]['package'], packages.loc[i]['organization'])"
   ]
  },
  {
   "cell_type": "code",
   "execution_count": 11,
   "metadata": {},
   "outputs": [],
   "source": [
    "with open(\"/home/matt/data/tagtog_requirement_quality_600/requirement_quality/annotations-legend.json\", \"r\") as f:\n",
    "    annotations_legend = json.load(f)"
   ]
  },
  {
   "cell_type": "code",
   "execution_count": 12,
   "metadata": {},
   "outputs": [],
   "source": [
    "HTML_DIR = \"/home/matt/data/tagtog_requirement_quality_600/requirement_quality/plain.html/pool\"\n",
    "filenames = os.listdir(HTML_DIR)\n",
    "\n",
    "filename_lookup = dict()\n",
    "for filename in filenames:\n",
    "    with open(os.path.join(HTML_DIR, filename)) as f:\n",
    "        html = BeautifulSoup(f).find(\"html\")\n",
    "        if html:\n",
    "            filename_lookup[html['id']] = html['data-origid']"
   ]
  },
  {
   "cell_type": "code",
   "execution_count": 13,
   "metadata": {},
   "outputs": [],
   "source": [
    "ANNO_DIR = \"/home/matt/data/tagtog_requirement_quality_600/requirement_quality/ann.json/master/pool\"\n",
    "filenames = os.listdir(ANNO_DIR)\n",
    "\n",
    "data = {\"issue_id\": [], \"user_id\": [], \"package_id\":[], \"package\": [], \"organization\": []}\n",
    "for value in annotations_legend.values():\n",
    "    data[value] = []\n",
    "\n",
    "for filename in filenames:\n",
    "    try:\n",
    "        orig_filename = filename_lookup[filename.replace(\".ann.json\", \"\")]\n",
    "    except KeyError:\n",
    "        continue\n",
    "    \n",
    "    with open(os.path.join(ANNO_DIR, filename), \"r\") as f:\n",
    "        labels = json.load(f)\n",
    "        \n",
    "    for key, value in annotations_legend.items():\n",
    "        data[value].append(labels['metas'].get(key, {\"value\": False})[\"value\"])\n",
    "    \n",
    "    \n",
    "    package_id, user_id, issue_id = tuple(orig_filename.split(\"-\"))\n",
    "    package, organization = package_lookup[package_id]\n",
    "\n",
    "    data[\"package_id\"].append(package_id)\n",
    "    data[\"issue_id\"].append(issue_id)\n",
    "    data[\"user_id\"].append(user_id)\n",
    "    data[\"package\"].append(package)\n",
    "    data[\"organization\"].append(organization)\n",
    "    \n",
    "data = pd.DataFrame(data)"
   ]
  },
  {
   "cell_type": "code",
   "execution_count": 14,
   "metadata": {},
   "outputs": [],
   "source": [
    "github_data = pd.read_csv(\"../github_data.csv\")\n",
    "similarity_data = pd.read_csv(\"../similarity_data.csv\")\n",
    "reqs_data = pd.read_csv(\"~/data/requirement_quality.csv\")\n",
    "\n",
    "reqs_data[\"user_id\"] = reqs_data[\"user_id\"].astype(str)\n",
    "reqs_data[\"issue_id\"] = reqs_data[\"issue_id\"].astype(str)"
   ]
  },
  {
   "cell_type": "code",
   "execution_count": 15,
   "metadata": {},
   "outputs": [],
   "source": [
    "data = data.merge(github_data, how=\"inner\", on=[\"package\", \"organization\", \"package_id\"])\n",
    "data = data.merge(reqs_data, how=\"inner\", on=[\"package_id\", \"user_id\", \"issue_id\", \"package\", \"organization\"])\n",
    "data = data.merge(total_user_issues, how=\"inner\", on=[\"package_id\", \"user_id\"])\n",
    "data = data.merge(total_user_comments, how=\"inner\", on=[\"package\", \"organization\", \"user_id\"])\n",
    "data = data.merge(similarity_data, how=\"inner\", on=[\"package_id\"])\n",
    "data = data.merge(commit_pct, how=\"inner\", on=[\"package_id\", \"user_id\"])\n",
    "data = data.merge(language, how=\"inner\", on=[\"package_id\"])"
   ]
  },
  {
   "cell_type": "code",
   "execution_count": 16,
   "metadata": {},
   "outputs": [],
   "source": [
    "data[\"req_quality\"] = 0\n",
    "for key in annotations_legend.values():\n",
    "    data[key] = data[key].astype(int)\n",
    "    data[\"req_quality\"] += data[key]"
   ]
  },
  {
   "cell_type": "code",
   "execution_count": 17,
   "metadata": {},
   "outputs": [],
   "source": [
    "data['issue_length'] = data[\"body\"].apply(lambda x: len(x))"
   ]
  },
  {
   "cell_type": "code",
   "execution_count": 18,
   "metadata": {},
   "outputs": [
    {
     "data": {
      "image/png": "[encoded data removed]",
      "text/plain": [
       "<Figure size 432x288 with 1 Axes>"
      ]
     },
     "metadata": {
      "needs_background": "light"
     },
     "output_type": "display_data"
    }
   ],
   "source": [
    "bins = np.linspace(0, 10, 11)\n",
    "\n",
    "plt.hist(data[data['contributor'] == True]['req_quality'], bins, alpha=0.5, label='contributor')\n",
    "plt.hist(data[data['contributor'] == False]['req_quality'], bins, alpha=0.5, label='non-contributor')\n",
    "plt.legend(loc='upper right')\n",
    "plt.show()"
   ]
  },
  {
   "cell_type": "code",
   "execution_count": 19,
   "metadata": {},
   "outputs": [
    {
     "name": "stdout",
     "output_type": "stream",
     "text": [
      "package_ab744db5ca5949d29d101293d7804811 - 32\n",
      "package_6d8b278d51ff412096368f4a48280546 - 26\n",
      "package_4d8c8752a3bb4c8a87d04ecf93603f67 - 26\n",
      "package_170d4a8b6fc64dad8545d46c09cca126 - 24\n",
      "package_4e4a7c109bdb4d4b8cd175f65e3a0790 - 19\n",
      "package_6a36e03c0f1441b49faa8f6f78509b9b - 19\n",
      "package_108f135ddec84117a774448e7e2b49d3 - 17\n",
      "package_ae03aa731d6c4b93a003d63cd90e7bc2 - 16\n",
      "package_4db515f7cdac4214a30c071d3c986761 - 15\n",
      "package_3fccd9f1b3b0419fa028615e9cf39ed6 - 15\n",
      "package_5f0b93551fd94e84b31a0ee1425b8a55 - 14\n",
      "package_6af468b3b683484e918f236be48cf041 - 13\n",
      "package_aca070379940455cbca1170e1660d740 - 12\n"
     ]
    }
   ],
   "source": [
    "for package_id, count in dict(data['package_id'].value_counts()).items():\n",
    "    if count > 10:\n",
    "        data[f\"package_{package_id}\"] = (data['package_id'] == package_id).astype(int)\n",
    "        print(f\"package_{package_id} - {count}\")"
   ]
  },
  {
   "cell_type": "code",
   "execution_count": 20,
   "metadata": {},
   "outputs": [
    {
     "data": {
      "text/plain": [
       "count                                  493\n",
       "unique                                  72\n",
       "top       ab744db5ca5949d29d101293d7804811\n",
       "freq                                    32\n",
       "Name: package_id, dtype: object"
      ]
     },
     "execution_count": 20,
     "metadata": {},
     "output_type": "execute_result"
    }
   ],
   "source": [
    "data['package_id'].describe()"
   ]
  },
  {
   "cell_type": "code",
   "execution_count": 21,
   "metadata": {},
   "outputs": [
    {
     "data": {
      "text/plain": [
       "javascript    177\n",
       "python        107\n",
       "cpp           103\n",
       "java           68\n",
       "php            38\n",
       "Name: language, dtype: int64"
      ]
     },
     "execution_count": 21,
     "metadata": {},
     "output_type": "execute_result"
    }
   ],
   "source": [
    "data['language'].value_counts()"
   ]
  },
  {
   "cell_type": "code",
   "execution_count": 22,
   "metadata": {},
   "outputs": [],
   "source": [
    "data['commit_pct_2'] = data['commit_pct']**2\n",
    "data['similarity_2'] = data['similarity']**2\n",
    "data['issue_length_2'] = data['issue_length']**2\n",
    "data['issue_length_3'] = data['issue_length']**3\n",
    "data['code_blocks'] = data['body'].apply(lambda x: x.count(\"`\"))\n",
    "data['code_blocks_2'] = data['code_blocks']**2\n",
    "data['links'] = data['body'].apply(lambda x: x.count(\"http\"))\n",
    "data['num_words'] = data['body'].apply(lambda x: len(x.split()))"
   ]
  },
  {
   "cell_type": "code",
   "execution_count": 48,
   "metadata": {},
   "outputs": [],
   "source": [
    "down_sample = []\n",
    "for name, group in data.groupby('package_id'):\n",
    "    if len(group) <= 10:\n",
    "        down_sample.append(group)\n",
    "    else:\n",
    "        down_sample.append(group.sample(10))\n",
    "down_sample = pd.concat(down_sample)\n",
    "down_sample.reset_index(inplace=True, drop=True)"
   ]
  },
  {
   "cell_type": "code",
   "execution_count": 49,
   "metadata": {},
   "outputs": [
    {
     "data": {
      "text/plain": [
       "javascript    107\n",
       "cpp            87\n",
       "python         81\n",
       "java           64\n",
       "php            36\n",
       "Name: language, dtype: int64"
      ]
     },
     "execution_count": 49,
     "metadata": {},
     "output_type": "execute_result"
    }
   ],
   "source": [
    "down_sample['language'].value_counts()"
   ]
  },
  {
   "cell_type": "code",
   "execution_count": 54,
   "metadata": {},
   "outputs": [
    {
     "data": {
      "text/plain": [
       "True     208\n",
       "False    167\n",
       "Name: contributor, dtype: int64"
      ]
     },
     "execution_count": 54,
     "metadata": {},
     "output_type": "execute_result"
    }
   ],
   "source": [
    "down_sample['contributor'].value_counts()"
   ]
  },
  {
   "cell_type": "code",
   "execution_count": 50,
   "metadata": {},
   "outputs": [
    {
     "data": {
      "image/png": "[encoded data removed]",
      "text/plain": [
       "<Figure size 432x288 with 1 Axes>"
      ]
     },
     "metadata": {
      "needs_background": "light"
     },
     "output_type": "display_data"
    }
   ],
   "source": [
    "bins = np.linspace(0, 10, 11)\n",
    "\n",
    "plt.hist(down_sample[down_sample['contributor'] == True]['req_quality'], bins, alpha=0.5, label='contributor')\n",
    "plt.hist(down_sample[down_sample['contributor'] == False]['req_quality'], bins, alpha=0.5, label='non-contributor')\n",
    "plt.legend(loc='upper right')\n",
    "plt.show()"
   ]
  },
  {
   "cell_type": "code",
   "execution_count": 53,
   "metadata": {},
   "outputs": [
    {
     "name": "stdout",
     "output_type": "stream",
     "text": [
      "15\n",
      "                            OLS Regression Results                            \n",
      "==============================================================================\n",
      "Dep. Variable:            req_quality   R-squared:                       0.397\n",
      "Model:                            OLS   Adj. R-squared:                  0.374\n",
      "Method:                 Least Squares   F-statistic:                     16.93\n",
      "Date:                Sat, 08 Aug 2020   Prob (F-statistic):           6.19e-32\n",
      "Time:                        22:32:49   Log-Likelihood:                -601.12\n",
      "No. Observations:                 375   AIC:                             1232.\n",
      "Df Residuals:                     360   BIC:                             1291.\n",
      "Df Model:                          14                                         \n",
      "Covariance Type:            nonrobust                                         \n",
      "==========================================================================================\n",
      "                             coef    std err          t      P>|t|      [0.025      0.975]\n",
      "------------------------------------------------------------------------------------------\n",
      "Intercept                  2.0199      0.255      7.907      0.000       1.518       2.522\n",
      "contributor[T.True]        0.3405      0.145      2.341      0.020       0.054       0.627\n",
      "language[T.java]          -0.7086      0.224     -3.167      0.002      -1.149      -0.269\n",
      "language[T.javascript]    -0.6136      0.194     -3.157      0.002      -0.996      -0.231\n",
      "language[T.php]           -0.6110      0.257     -2.378      0.018      -1.116      -0.106\n",
      "language[T.python]        -0.3691      0.198     -1.864      0.063      -0.758       0.020\n",
      "similarity                 3.3182      1.464      2.266      0.024       0.438       6.198\n",
      "crowd_pct                 -0.5578      0.355     -1.569      0.117      -1.257       0.141\n",
      "code_blocks                0.1103      0.018      6.294      0.000       0.076       0.145\n",
      "code_blocks_2             -0.0019      0.001     -3.708      0.000      -0.003      -0.001\n",
      "issue_length               0.0005    9.3e-05      5.687      0.000       0.000       0.001\n",
      "issue_length_2         -2.828e-08   6.46e-09     -4.376      0.000    -4.1e-08   -1.56e-08\n",
      "issue_length_3          3.851e-13   1.02e-13      3.763      0.000    1.84e-13    5.86e-13\n",
      "total_issues               0.0029      0.001      2.587      0.010       0.001       0.005\n",
      "total_contributors        -0.0185      0.010     -1.792      0.074      -0.039       0.002\n",
      "==============================================================================\n",
      "Omnibus:                       10.600   Durbin-Watson:                   1.659\n",
      "Prob(Omnibus):                  0.005   Jarque-Bera (JB):               10.786\n",
      "Skew:                           0.411   Prob(JB):                      0.00455\n",
      "Kurtosis:                       3.117   Cond. No.                     1.53e+14\n",
      "==============================================================================\n",
      "\n",
      "Warnings:\n",
      "[1] Standard Errors assume that the covariance matrix of the errors is correctly specified.\n",
      "[2] The condition number is large, 1.53e+14. This might indicate that there are\n",
      "strong multicollinearity or other numerical problems.\n"
     ]
    }
   ],
   "source": [
    "formula = \"\"\"\n",
    "req_quality ~ contributor +  similarity  + crowd_pct  + language + \n",
    "code_blocks + code_blocks_2 + issue_length + issue_length_2 + issue_length_3 +\n",
    "total_issues + total_contributors \n",
    "\"\"\"\n",
    "y, X = dmatrices(formula, data=down_sample, return_type='dataframe')\n",
    "mod = sm.OLS(y, X)\n",
    "res = mod.fit()\n",
    "print(len(res.params))\n",
    "print(res.summary())"
   ]
  },
  {
   "cell_type": "code",
   "execution_count": 27,
   "metadata": {},
   "outputs": [
    {
     "data": {
      "text/plain": [
       "Text(0, 0.5, 'Count')"
      ]
     },
     "execution_count": 27,
     "metadata": {},
     "output_type": "execute_result"
    },
    {
     "data": {
      "image/png": "[encoded data removed]",
      "text/plain": [
       "<Figure size 720x360 with 1 Axes>"
      ]
     },
     "metadata": {
      "needs_background": "light"
     },
     "output_type": "display_data"
    }
   ],
   "source": [
    "plt.figure(figsize=(10, 5))\n",
    "sns.distplot(res.resid, kde=False, color='blue', bins=10)\n",
    "plt.title('Model Residuals', fontsize=18)\n",
    "plt.xlabel('Residuals', fontsize=16)\n",
    "plt.ylabel('Count', fontsize=16)\n",
    "#plt.xlim([-2.2, 2.2])"
   ]
  },
  {
   "cell_type": "code",
   "execution_count": 28,
   "metadata": {},
   "outputs": [
    {
     "name": "stdout",
     "output_type": "stream",
     "text": [
      "0.31952466522919276\n",
      "14\n",
      "                 Generalized Linear Model Regression Results                  \n",
      "==============================================================================\n",
      "Dep. Variable:            req_quality   No. Observations:                  375\n",
      "Model:                            GLM   Df Residuals:                      368\n",
      "Model Family:                 Poisson   Df Model:                            6\n",
      "Link Function:                    log   Scale:                          1.0000\n",
      "Method:                          IRLS   Log-Likelihood:                -639.61\n",
      "Date:                Sat, 08 Aug 2020   Deviance:                       221.54\n",
      "Time:                        22:28:52   Pearson chi2:                     215.\n",
      "No. Iterations:                   100                                         \n",
      "Covariance Type:            nonrobust                                         \n",
      "==========================================================================================\n",
      "                             coef    std err          z      P>|z|      [0.025      0.975]\n",
      "------------------------------------------------------------------------------------------\n",
      "Intercept                  0.7643      0.122      6.285      0.000       0.526       1.003\n",
      "contributor[T.True]        0.0940      0.070      1.352      0.176      -0.042       0.230\n",
      "language[T.java]          -0.2518      0.106     -2.374      0.018      -0.460      -0.044\n",
      "language[T.javascript]    -0.2145      0.085     -2.521      0.012      -0.381      -0.048\n",
      "language[T.php]           -0.2013      0.120     -1.682      0.093      -0.436       0.033\n",
      "language[T.python]        -0.1683      0.091     -1.848      0.065      -0.347       0.010\n",
      "crowd_pct                 -0.1899      0.166     -1.143      0.253      -0.516       0.136\n",
      "similarity                 1.3437      0.675      1.991      0.047       0.021       2.667\n",
      "code_blocks                0.0397      0.008      4.795      0.000       0.023       0.056\n",
      "code_blocks_2             -0.0007      0.000     -3.088      0.002      -0.001      -0.000\n",
      "issue_length               0.0001   3.98e-05      3.027      0.002    4.25e-05       0.000\n",
      "issue_length_2         -7.706e-09   3.53e-09     -2.182      0.029   -1.46e-08   -7.84e-10\n",
      "issue_length_3          1.164e-13   5.87e-14      1.983      0.047    1.33e-15    2.31e-13\n",
      "total_issues               0.0004      0.000      1.552      0.121      -0.000       0.001\n",
      "==========================================================================================\n"
     ]
    }
   ],
   "source": [
    "formula = \"\"\"\n",
    "req_quality ~ contributor + crowd_pct + similarity  + language +\n",
    "code_blocks + code_blocks_2 + issue_length + issue_length_2 + issue_length_3 +\n",
    "total_issues  \n",
    "\"\"\"\n",
    "y, X = dmatrices(formula, data=down_sample, return_type='dataframe')\n",
    "mod = sm.GLM(y, X, family=sm.families.Poisson())\n",
    "res = mod.fit()\n",
    "print(1 - (res.deviance/res.null_deviance))\n",
    "print(len(res.params))\n",
    "print(res.summary())"
   ]
  },
  {
   "cell_type": "code",
   "execution_count": 29,
   "metadata": {},
   "outputs": [
    {
     "name": "stderr",
     "output_type": "stream",
     "text": [
      "/home/matt/Envs/phd/lib/python3.8/site-packages/statsmodels/genmod/generalized_linear_model.py:1519: FutureWarning: Anscombe residuals currently unscaled. In a future release, they will be scaled.\n",
      "  warnings.warn('Anscombe residuals currently unscaled. In a future '\n"
     ]
    },
    {
     "data": {
      "text/plain": [
       "Text(0, 0.5, 'Count')"
      ]
     },
     "execution_count": 29,
     "metadata": {},
     "output_type": "execute_result"
    },
    {
     "data": {
      "image/png": "[encoded data removed]",
      "text/plain": [
       "<Figure size 720x360 with 1 Axes>"
      ]
     },
     "metadata": {
      "needs_background": "light"
     },
     "output_type": "display_data"
    }
   ],
   "source": [
    "plt.figure(figsize=(10, 5))\n",
    "sns.distplot(res.resid_anscombe, kde=False, color='blue', bins=10)\n",
    "plt.title('Model Residuals', fontsize=18)\n",
    "plt.xlabel('Residuals', fontsize=16)\n",
    "plt.ylabel('Count', fontsize=16)"
   ]
  },
  {
   "cell_type": "code",
   "execution_count": null,
   "metadata": {},
   "outputs": [],
   "source": []
  }
 ],
 "metadata": {
  "kernelspec": {
   "display_name": "Python 3",
   "language": "python",
   "name": "python3"
  },
  "language_info": {
   "codemirror_mode": {
    "name": "ipython",
    "version": 3
   },
   "file_extension": ".py",
   "mimetype": "text/x-python",
   "name": "python",
   "nbconvert_exporter": "python",
   "pygments_lexer": "ipython3",
   "version": "3.8.2"
  }
 },
 "nbformat": 4,
 "nbformat_minor": 4
}
