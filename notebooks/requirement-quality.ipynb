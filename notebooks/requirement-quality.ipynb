{
 "cells": [
  {
   "cell_type": "code",
   "execution_count": 1,
   "metadata": {},
   "outputs": [],
   "source": [
    "import json\n",
    "import os\n",
    "\n",
    "from bs4 import BeautifulSoup\n",
    "import pandas as pd\n",
    "import psycopg2\n",
    "from matplotlib import pyplot as plt\n",
    "import numpy as np\n",
    "import pandas as pd\n",
    "from patsy import dmatrices\n",
    "import scipy.stats\n",
    "import seaborn as sns\n",
    "import statsmodels.api as sm\n",
    "import statsmodels.stats.api as sms"
   ]
  },
  {
   "cell_type": "code",
   "execution_count": 2,
   "metadata": {},
   "outputs": [],
   "source": [
    "connection = psycopg2.connect(host=\"localhost\", dbname=\"postgres\", user=\"postgres\", port=5432)"
   ]
  },
  {
   "cell_type": "code",
   "execution_count": 3,
   "metadata": {},
   "outputs": [],
   "source": [
    "commit_pct = pd.read_sql(\"SELECT DISTINCT user_id, package_id, commit_pct FROM open_source.issue_contributors\", connection)"
   ]
  },
  {
   "cell_type": "code",
   "execution_count": 204,
   "metadata": {},
   "outputs": [],
   "source": [
    "language = pd.read_sql(\"SELECT id as package_id, language FROM open_source.packages\", connection)"
   ]
  },
  {
   "cell_type": "code",
   "execution_count": 4,
   "metadata": {},
   "outputs": [],
   "source": [
    "query = \"\"\"\n",
    "SELECT COUNT(*) as total_user_issues, package_id, user_id\n",
    "FROM open_source.issue_contributors\n",
    "GROUP BY package_id, user_id\n",
    "\"\"\""
   ]
  },
  {
   "cell_type": "code",
   "execution_count": 5,
   "metadata": {},
   "outputs": [],
   "source": [
    "total_user_issues = pd.read_sql(query, connection)"
   ]
  },
  {
   "cell_type": "code",
   "execution_count": 6,
   "metadata": {},
   "outputs": [],
   "source": [
    "query = \"\"\"\n",
    "SELECT COUNT(*) as total_user_comments, package, organization, user_id\n",
    "FROM open_source.issue_comments\n",
    "GROUP BY package, organization, user_id\n",
    "\"\"\""
   ]
  },
  {
   "cell_type": "code",
   "execution_count": 7,
   "metadata": {},
   "outputs": [],
   "source": [
    "total_user_comments = pd.read_sql(query, connection)"
   ]
  },
  {
   "cell_type": "code",
   "execution_count": 8,
   "metadata": {},
   "outputs": [],
   "source": [
    "query = \"\"\"\n",
    "    SELECT id as package_id, package_name as package, org_name as organization\n",
    "    FROM open_source.packages\n",
    "\"\"\""
   ]
  },
  {
   "cell_type": "code",
   "execution_count": 9,
   "metadata": {},
   "outputs": [],
   "source": [
    "packages = pd.read_sql(query, connection)\n",
    "package_lookup = dict()\n",
    "for i in packages.index:\n",
    "    package_lookup[packages.loc[i]['package_id']] = (packages.loc[i]['package'], packages.loc[i]['organization'])"
   ]
  },
  {
   "cell_type": "code",
   "execution_count": 10,
   "metadata": {},
   "outputs": [],
   "source": [
    "with open(\"/home/matt/data/tagtog_requirement_quality/requirement_quality/annotations-legend.json\", \"r\") as f:\n",
    "    annotations_legend = json.load(f)"
   ]
  },
  {
   "cell_type": "code",
   "execution_count": 11,
   "metadata": {},
   "outputs": [],
   "source": [
    "HTML_DIR = \"/home/matt/data/tagtog_requirement_quality/requirement_quality/plain.html/pool\"\n",
    "filenames = os.listdir(HTML_DIR)\n",
    "\n",
    "filename_lookup = dict()\n",
    "for filename in filenames:\n",
    "    with open(os.path.join(HTML_DIR, filename)) as f:\n",
    "        html = BeautifulSoup(f).find(\"html\")\n",
    "        if html:\n",
    "            filename_lookup[html['id']] = html['data-origid']"
   ]
  },
  {
   "cell_type": "code",
   "execution_count": 210,
   "metadata": {},
   "outputs": [],
   "source": [
    "ANNO_DIR = \"/home/matt/data/tagtog_requirement_quality/requirement_quality/ann.json/master/pool\"\n",
    "filenames = os.listdir(ANNO_DIR)\n",
    "\n",
    "data = {\"issue_id\": [], \"user_id\": [], \"package_id\":[], \"package\": [], \"organization\": []}\n",
    "for value in annotations_legend.values():\n",
    "    data[value] = []\n",
    "\n",
    "for filename in filenames:\n",
    "    try:\n",
    "        orig_filename = filename_lookup[filename.replace(\".ann.json\", \"\")]\n",
    "    except KeyError:\n",
    "        continue\n",
    "    \n",
    "    with open(os.path.join(ANNO_DIR, filename), \"r\") as f:\n",
    "        labels = json.load(f)\n",
    "        \n",
    "    for key, value in annotations_legend.items():\n",
    "        data[value].append(labels['metas'].get(key, {\"value\": False})[\"value\"])\n",
    "    \n",
    "    \n",
    "    package_id, user_id, issue_id = tuple(orig_filename.split(\"-\"))\n",
    "    package, organization = package_lookup[package_id]\n",
    "\n",
    "    data[\"package_id\"].append(package_id)\n",
    "    data[\"issue_id\"].append(issue_id)\n",
    "    data[\"user_id\"].append(user_id)\n",
    "    data[\"package\"].append(package)\n",
    "    data[\"organization\"].append(organization)\n",
    "    \n",
    "data = pd.DataFrame(data)"
   ]
  },
  {
   "cell_type": "code",
   "execution_count": 211,
   "metadata": {},
   "outputs": [],
   "source": [
    "github_data = pd.read_csv(\"../github_data.csv\")\n",
    "similarity_data = pd.read_csv(\"../similarity_data.csv\")\n",
    "reqs_data = pd.read_csv(\"../requirement_quality.csv\")\n",
    "\n",
    "reqs_data[\"user_id\"] = reqs_data[\"user_id\"].astype(str)\n",
    "reqs_data[\"issue_id\"] = reqs_data[\"issue_id\"].astype(str)"
   ]
  },
  {
   "cell_type": "code",
   "execution_count": 212,
   "metadata": {},
   "outputs": [],
   "source": [
    "data = data.merge(github_data, how=\"inner\", on=[\"package\", \"organization\", \"package_id\"])\n",
    "data = data.merge(reqs_data, how=\"inner\", on=[\"package_id\", \"user_id\", \"issue_id\", \"package\", \"organization\"])\n",
    "data = data.merge(total_user_issues, how=\"inner\", on=[\"package_id\", \"user_id\"])\n",
    "data = data.merge(total_user_comments, how=\"inner\", on=[\"package\", \"organization\", \"user_id\"])\n",
    "data = data.merge(similarity_data, how=\"inner\", on=[\"package_id\"])\n",
    "data = data.merge(commit_pct, how=\"inner\", on=[\"package_id\", \"user_id\"])\n",
    "data = data.merge(language, how=\"inner\", on=[\"package_id\"])"
   ]
  },
  {
   "cell_type": "code",
   "execution_count": 213,
   "metadata": {},
   "outputs": [],
   "source": [
    "data[\"req_quality\"] = 0\n",
    "for key in annotations_legend.values():\n",
    "    data[key] = data[key].astype(int)\n",
    "    data[\"req_quality\"] += data[key]"
   ]
  },
  {
   "cell_type": "code",
   "execution_count": 216,
   "metadata": {},
   "outputs": [],
   "source": [
    "data['good_issue'] = (data[\"req_quality\"] > 3).astype(int)\n",
    "data['issue_length'] = data[\"body\"].apply(lambda x: len(x))"
   ]
  },
  {
   "cell_type": "code",
   "execution_count": 217,
   "metadata": {},
   "outputs": [
    {
     "data": {
      "image/png": "[encoded data removed]",
      "text/plain": [
       "<Figure size 432x288 with 1 Axes>"
      ]
     },
     "metadata": {
      "needs_background": "light"
     },
     "output_type": "display_data"
    }
   ],
   "source": [
    "bins = np.linspace(0, 7, 8)\n",
    "\n",
    "plt.hist(data[data['contributor'] == True]['req_quality'], bins, alpha=0.5, label='contributor')\n",
    "plt.hist(data[data['contributor'] == False]['req_quality'], bins, alpha=0.5, label='non-contributor')\n",
    "plt.legend(loc='upper right')\n",
    "plt.show()"
   ]
  },
  {
   "cell_type": "code",
   "execution_count": 218,
   "metadata": {},
   "outputs": [],
   "source": [
    "for package_id, count in dict(data['package_id'].value_counts()).items():\n",
    "    if count > 10:\n",
    "        data[f\"package_{package_id}\"] = (data['package_id'] == package_id).astype(int)"
   ]
  },
  {
   "cell_type": "code",
   "execution_count": 262,
   "metadata": {},
   "outputs": [],
   "source": [
    "data['commit_pct_2'] = data['commit_pct']**2\n",
    "data['similarity_2'] = data['similarity']**2\n",
    "data['issue_length_2'] = data['issue_length']**2\n",
    "data['issue_length_3'] = data['issue_length']**3\n",
    "data['code_blocks'] = data['body'].apply(lambda x: x.count(\"`\"))\n",
    "data['num_words'] = data['body'].apply(lambda x: len(x.split()))"
   ]
  },
  {
   "cell_type": "code",
   "execution_count": null,
   "metadata": {},
   "outputs": [],
   "source": []
  },
  {
   "cell_type": "code",
   "execution_count": 268,
   "metadata": {},
   "outputs": [
    {
     "name": "stdout",
     "output_type": "stream",
     "text": [
      "12\n",
      "                            OLS Regression Results                            \n",
      "==============================================================================\n",
      "Dep. Variable:            req_quality   R-squared:                       0.461\n",
      "Model:                            OLS   Adj. R-squared:                  0.436\n",
      "Method:                 Least Squares   F-statistic:                     18.51\n",
      "Date:                Sun, 02 Aug 2020   Prob (F-statistic):           1.67e-26\n",
      "Time:                        18:33:23   Log-Likelihood:                -370.44\n",
      "No. Observations:                 250   AIC:                             764.9\n",
      "Df Residuals:                     238   BIC:                             807.1\n",
      "Df Model:                          11                                         \n",
      "Covariance Type:            nonrobust                                         \n",
      "=======================================================================================\n",
      "                          coef    std err          t      P>|t|      [0.025      0.975]\n",
      "---------------------------------------------------------------------------------------\n",
      "Intercept               0.5470      0.378      1.447      0.149      -0.198       1.292\n",
      "contributor[T.True]     0.2457      0.162      1.520      0.130      -0.073       0.564\n",
      "crowd_pct               4.1382      1.385      2.988      0.003       1.410       6.866\n",
      "crowd_pct_2            -4.2425      1.278     -3.319      0.001      -6.760      -1.725\n",
      "similarity              4.2458      2.199      1.930      0.055      -0.087       8.578\n",
      "issue_length            0.0032      0.001      5.871      0.000       0.002       0.004\n",
      "issue_length_2      -1.228e-06   3.33e-07     -3.688      0.000   -1.88e-06   -5.72e-07\n",
      "issue_length_3       1.342e-10   5.44e-11      2.469      0.014    2.71e-11    2.41e-10\n",
      "code_blocks             0.0217      0.010      2.249      0.025       0.003       0.041\n",
      "num_users              -0.0060      0.003     -2.148      0.033      -0.012      -0.000\n",
      "topic_2                -8.9071      3.522     -2.529      0.012     -15.846      -1.968\n",
      "topic_6                -2.5627      1.336     -1.918      0.056      -5.195       0.070\n",
      "==============================================================================\n",
      "Omnibus:                        3.305   Durbin-Watson:                   1.815\n",
      "Prob(Omnibus):                  0.192   Jarque-Bera (JB):                3.357\n",
      "Skew:                           0.275   Prob(JB):                        0.187\n",
      "Kurtosis:                       2.863   Cond. No.                     6.93e+11\n",
      "==============================================================================\n",
      "\n",
      "Warnings:\n",
      "[1] Standard Errors assume that the covariance matrix of the errors is correctly specified.\n",
      "[2] The condition number is large, 6.93e+11. This might indicate that there are\n",
      "strong multicollinearity or other numerical problems.\n"
     ]
    }
   ],
   "source": [
    "formula = \"\"\"\n",
    "req_quality ~ contributor + crowd_pct + crowd_pct_2  + similarity +\n",
    "    issue_length + issue_length_2  + issue_length_3 + code_blocks +\n",
    "    num_users + topic_2 + topic_6\n",
    "\"\"\"\n",
    "y, X = dmatrices(formula, data=data, return_type='dataframe')\n",
    "mod = sm.OLS(y, X)\n",
    "res = mod.fit()\n",
    "print(len(res.params))\n",
    "print(res.summary())"
   ]
  },
  {
   "cell_type": "code",
   "execution_count": 236,
   "metadata": {},
   "outputs": [
    {
     "data": {
      "text/plain": [
       "Text(0, 0.5, 'Count')"
      ]
     },
     "execution_count": 236,
     "metadata": {},
     "output_type": "execute_result"
    },
    {
     "data": {
      "image/png": "[encoded data removed]",
      "text/plain": [
       "<Figure size 720x360 with 1 Axes>"
      ]
     },
     "metadata": {
      "needs_background": "light"
     },
     "output_type": "display_data"
    }
   ],
   "source": [
    "plt.figure(figsize=(10, 5))\n",
    "sns.distplot(res.resid, kde=False, color='blue', bins=10)\n",
    "plt.title('Model Residuals', fontsize=18)\n",
    "plt.xlabel('Residuals', fontsize=16)\n",
    "plt.ylabel('Count', fontsize=16)\n",
    "#plt.xlim([-2.2, 2.2])"
   ]
  },
  {
   "cell_type": "code",
   "execution_count": 233,
   "metadata": {},
   "outputs": [
    {
     "name": "stdout",
     "output_type": "stream",
     "text": [
      "0.4444373453191355\n",
      "12\n",
      "                 Generalized Linear Model Regression Results                  \n",
      "==============================================================================\n",
      "Dep. Variable:            req_quality   No. Observations:                  250\n",
      "Model:                            GLM   Df Residuals:                      238\n",
      "Model Family:                 Poisson   Df Model:                           11\n",
      "Link Function:                    log   Scale:                          1.0000\n",
      "Method:                          IRLS   Log-Likelihood:                -401.43\n",
      "Date:                Sun, 02 Aug 2020   Deviance:                       112.51\n",
      "Time:                        18:24:19   Pearson chi2:                     109.\n",
      "No. Iterations:                     4                                         \n",
      "Covariance Type:            nonrobust                                         \n",
      "=======================================================================================\n",
      "                          coef    std err          z      P>|z|      [0.025      0.975]\n",
      "---------------------------------------------------------------------------------------\n",
      "Intercept               0.0249      0.243      0.102      0.919      -0.452       0.501\n",
      "contributor[T.True]     0.1013      0.088      1.153      0.249      -0.071       0.273\n",
      "crowd_pct               1.8054      0.840      2.150      0.032       0.160       3.451\n",
      "crowd_pct_2            -1.8399      0.771     -2.387      0.017      -3.350      -0.329\n",
      "similarity              1.7336      1.194      1.451      0.147      -0.608       4.075\n",
      "issue_length            0.0014      0.000      4.434      0.000       0.001       0.002\n",
      "issue_length_2      -5.536e-07   1.77e-07     -3.130      0.002      -9e-07   -2.07e-07\n",
      "issue_length_3       6.561e-11    2.8e-11      2.347      0.019    1.08e-11     1.2e-10\n",
      "code_blocks             0.0053      0.005      1.131      0.258      -0.004       0.014\n",
      "num_users              -0.0018      0.002     -1.207      0.228      -0.005       0.001\n",
      "topic_2                -3.8488      2.224     -1.730      0.084      -8.208       0.510\n",
      "topic_6                -0.9610      0.754     -1.274      0.203      -2.440       0.518\n",
      "=======================================================================================\n"
     ]
    }
   ],
   "source": [
    "formula = \"\"\"\n",
    "req_quality ~ contributor + crowd_pct + crowd_pct_2  + similarity  +\n",
    "    issue_length + issue_length_2  + issue_length_3 + code_blocks +\n",
    "    num_users + topic_2 + topic_6\n",
    "\"\"\"\n",
    "y, X = dmatrices(formula,\n",
    "                 data=data, return_type='dataframe')\n",
    "mod = sm.GLM(y, X, family=sm.families.Poisson())\n",
    "res = mod.fit()\n",
    "print(1 - (res.deviance/res.null_deviance))\n",
    "print(len(res.params))\n",
    "print(res.summary())"
   ]
  },
  {
   "cell_type": "code",
   "execution_count": null,
   "metadata": {},
   "outputs": [],
   "source": []
  }
 ],
 "metadata": {
  "kernelspec": {
   "display_name": "Python 3",
   "language": "python",
   "name": "python3"
  },
  "language_info": {
   "codemirror_mode": {
    "name": "ipython",
    "version": 3
   },
   "file_extension": ".py",
   "mimetype": "text/x-python",
   "name": "python",
   "nbconvert_exporter": "python",
   "pygments_lexer": "ipython3",
   "version": "3.8.2"
  }
 },
 "nbformat": 4,
 "nbformat_minor": 4
}
