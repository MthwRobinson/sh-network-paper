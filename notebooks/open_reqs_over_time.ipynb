{
 "cells": [
  {
   "cell_type": "code",
   "execution_count": 1,
   "metadata": {},
   "outputs": [],
   "source": [
    "import os\n",
    "\n",
    "import matplotlib.pyplot as plt\n",
    "import numpy as np\n",
    "import pandas as pd\n",
    "from patsy import dmatrices\n",
    "import psycopg2\n",
    "import scipy.stats\n",
    "import seaborn as sns\n",
    "import statsmodels.api as sm\n",
    "import statsmodels.stats.api as sm"
   ]
  },
  {
   "cell_type": "code",
   "execution_count": 5,
   "metadata": {},
   "outputs": [],
   "source": [
    "connection = psycopg2.connect(host=\"localhost\", dbname=\"postgres\", user=\"postgres\")"
   ]
  },
  {
   "cell_type": "code",
   "execution_count": 13,
   "metadata": {},
   "outputs": [],
   "source": [
    "def get_open_issue_count(year, month):\n",
    "    sql = f\"\"\"\n",
    "        SELECT COUNT(DISTINCT issue_id) as open_issue_count, package_id, package, organization\n",
    "        FROM (\n",
    "            SELECT a.package_id, package, organization, a.user_id, a.issue_id, commit_pct\n",
    "            FROM open_source.issue_contributors a\n",
    "            INNER JOIN open_source.issues b\n",
    "            ON (a.issue_id = b.id)\n",
    "            WHERE b.created_at < '{year}-{month:02d}-01'\n",
    "            AND (b.closed_at IS NOT NULL or b.closed_at > '{year}-{month}-01')\n",
    "        ) x\n",
    "        GROUP BY package_id, package, organization\n",
    "    \"\"\"\n",
    "    data = pd.read_sql(sql, connection)\n",
    "    data['date'] = f\"{year}-{month}-01\"\n",
    "    data['date'] = pd.to_datetime(data['date'])\n",
    "    return data"
   ]
  },
  {
   "cell_type": "code",
   "execution_count": 17,
   "metadata": {},
   "outputs": [],
   "source": [
    "def get_contributor_count(year, month):\n",
    "    sql = f\"\"\"\n",
    "        SELECT COUNT(DISTINCT user_id) as contributor_count, package_id, package, organization\n",
    "        FROM (\n",
    "            SELECT a.package_id, package, organization, a.user_id, a.issue_id, commit_pct\n",
    "            FROM open_source.issue_contributors a\n",
    "            INNER JOIN open_source.issues b\n",
    "            ON (a.issue_id = b.id)\n",
    "            WHERE b.created_at < '{year}-{month:02d}-01'\n",
    "            AND commit_pct > 0\n",
    "        ) x\n",
    "        GROUP BY package_id, package, organization\n",
    "    \"\"\"\n",
    "    data = pd.read_sql(sql, connection)\n",
    "    data['date'] = f\"{year}-{month}-01\"\n",
    "    data['date'] = pd.to_datetime(data['date'])\n",
    "    return data"
   ]
  },
  {
   "cell_type": "code",
   "execution_count": 23,
   "metadata": {},
   "outputs": [],
   "source": [
    "test = get_open_issue_count(2020, 1)"
   ]
  },
  {
   "cell_type": "code",
   "execution_count": 25,
   "metadata": {},
   "outputs": [],
   "source": [
    "test = get_contributor_count(2020, 1)"
   ]
  },
  {
   "cell_type": "code",
   "execution_count": 12,
   "metadata": {},
   "outputs": [
    {
     "name": "stdout",
     "output_type": "stream",
     "text": [
      "01\n"
     ]
    }
   ],
   "source": [
    "print(f\"{1:02d}\")"
   ]
  },
  {
   "cell_type": "code",
   "execution_count": 83,
   "metadata": {},
   "outputs": [
    {
     "data": {
      "text/plain": [
       "['saws', 'aws-sdk-php']"
      ]
     },
     "execution_count": 83,
     "metadata": {},
     "output_type": "execute_result"
    }
   ],
   "source": [
    "[x for x in test['package'] if 'aws' in x.lower()]"
   ]
  },
  {
   "cell_type": "code",
   "execution_count": 27,
   "metadata": {},
   "outputs": [
    {
     "data": {
      "text/plain": [
       "[1, 2, 3, 4, 5, 6, 7, 8, 9, 10, 11, 12]"
      ]
     },
     "execution_count": 27,
     "metadata": {},
     "output_type": "execute_result"
    }
   ],
   "source": [
    "[x for x in range(1, 13)]"
   ]
  },
  {
   "cell_type": "code",
   "execution_count": 28,
   "metadata": {},
   "outputs": [
    {
     "name": "stdout",
     "output_type": "stream",
     "text": [
      "Pulling 2015-1\n",
      "Pulling 2015-2\n",
      "Pulling 2015-3\n",
      "Pulling 2015-4\n",
      "Pulling 2015-5\n",
      "Pulling 2015-6\n",
      "Pulling 2015-7\n",
      "Pulling 2015-8\n",
      "Pulling 2015-9\n",
      "Pulling 2015-10\n",
      "Pulling 2015-11\n",
      "Pulling 2015-12\n",
      "Pulling 2016-1\n",
      "Pulling 2016-2\n",
      "Pulling 2016-3\n",
      "Pulling 2016-4\n",
      "Pulling 2016-5\n",
      "Pulling 2016-6\n",
      "Pulling 2016-7\n",
      "Pulling 2016-8\n",
      "Pulling 2016-9\n",
      "Pulling 2016-10\n",
      "Pulling 2016-11\n",
      "Pulling 2016-12\n",
      "Pulling 2017-1\n",
      "Pulling 2017-2\n",
      "Pulling 2017-3\n",
      "Pulling 2017-4\n",
      "Pulling 2017-5\n",
      "Pulling 2017-6\n",
      "Pulling 2017-7\n",
      "Pulling 2017-8\n",
      "Pulling 2017-9\n",
      "Pulling 2017-10\n",
      "Pulling 2017-11\n",
      "Pulling 2017-12\n",
      "Pulling 2018-1\n",
      "Pulling 2018-2\n",
      "Pulling 2018-3\n",
      "Pulling 2018-4\n",
      "Pulling 2018-5\n",
      "Pulling 2018-6\n",
      "Pulling 2018-7\n",
      "Pulling 2018-8\n",
      "Pulling 2018-9\n",
      "Pulling 2018-10\n",
      "Pulling 2018-11\n",
      "Pulling 2018-12\n",
      "Pulling 2019-1\n",
      "Pulling 2019-2\n",
      "Pulling 2019-3\n",
      "Pulling 2019-4\n",
      "Pulling 2019-5\n",
      "Pulling 2019-6\n",
      "Pulling 2019-7\n",
      "Pulling 2019-8\n",
      "Pulling 2019-9\n",
      "Pulling 2019-10\n",
      "Pulling 2019-11\n",
      "Pulling 2019-12\n"
     ]
    }
   ],
   "source": [
    "data = list()\n",
    "for year in [2015, 2016, 2017, 2018, 2019]:\n",
    "    for month in range(1, 13):\n",
    "        print(f\"Pulling {year}-{month}\")\n",
    "        open_issues = get_open_issue_count(year, month)\n",
    "        contributors = get_contributor_count(year, month)\n",
    "        combined = open_issues.merge(contributors, how=\"inner\", on=[\"package_id\", \"package\", \"organization\"])\n",
    "        data.append(combined)"
   ]
  },
  {
   "cell_type": "code",
   "execution_count": 29,
   "metadata": {},
   "outputs": [],
   "source": [
    "full_data = pd.concat(data)\n",
    "full_data[\"date\"] = full_data[\"date_x\"]"
   ]
  },
  {
   "cell_type": "code",
   "execution_count": 31,
   "metadata": {},
   "outputs": [],
   "source": [
    "full_data.sort_values([\"package_id\", \"date\"], inplace=True)"
   ]
  },
  {
   "cell_type": "code",
   "execution_count": 34,
   "metadata": {},
   "outputs": [],
   "source": [
    "full_data.reset_index(inplace=True, drop=True)"
   ]
  },
  {
   "cell_type": "code",
   "execution_count": 45,
   "metadata": {},
   "outputs": [
    {
     "data": {
      "text/plain": [
       "array(['ChakraCore', 'reveal.js', 'beets', ..., 'geotools', 'themis',\n",
       "       'PyTime'], dtype=object)"
      ]
     },
     "execution_count": 45,
     "metadata": {},
     "output_type": "execute_result"
    }
   ],
   "source": [
    "full_data['package'].unique()"
   ]
  },
  {
   "cell_type": "code",
   "execution_count": 36,
   "metadata": {},
   "outputs": [],
   "source": [
    "full_data.index = full_data['date']"
   ]
  },
  {
   "cell_type": "code",
   "execution_count": 85,
   "metadata": {},
   "outputs": [],
   "source": [
    "keystone = full_data[full_data['package'] == 'keystone']\n",
    "keystone = keystone[keystone['date'] < '2019-05-01']"
   ]
  },
  {
   "cell_type": "code",
   "execution_count": 89,
   "metadata": {},
   "outputs": [],
   "source": [
    "leaflet = full_data[full_data['package'] == 'Leaflet']\n",
    "leaflet = leaflet[leaflet['date'] < '2019-01-01']"
   ]
  },
  {
   "cell_type": "code",
   "execution_count": null,
   "metadata": {},
   "outputs": [],
   "source": [
    "aws = full_data[full_data['package'] == 'Leaflet']"
   ]
  },
  {
   "cell_type": "code",
   "execution_count": 88,
   "metadata": {},
   "outputs": [
    {
     "data": {
      "text/plain": [
       "Text(0.5, 0, 'Date')"
      ]
     },
     "execution_count": 88,
     "metadata": {},
     "output_type": "execute_result"
    },
    {
     "data": {
      "image/png": "[encoded data removed]",
      "text/plain": [
       "<Figure size 576x360 with 1 Axes>"
      ]
     },
     "metadata": {
      "needs_background": "light"
     },
     "output_type": "display_data"
    }
   ],
   "source": [
    "plt.figure(figsize=(8, 5))\n",
    "\n",
    "sns.lineplot(x=keystone['date'], y=keystone['open_issue_count'], label=\"Open Requirement Count\")\n",
    "sns.lineplot(x=keystone['date'], y=keystone['contributor_count'], label=\"Contributor Count\")\n",
    "\n",
    "plt.legend(bbox_to_anchor=(0.01, 0.97), loc=2, borderaxespad=0.)\n",
    "plt.title('KeystoneJS', fontsize=18)\n",
    "plt.ylabel('Total Requirements\\nTotal Issues', fontsize=16)\n",
    "plt.xlabel('Date', fontsize=16)"
   ]
  },
  {
   "cell_type": "code",
   "execution_count": 90,
   "metadata": {},
   "outputs": [
    {
     "data": {
      "text/plain": [
       "Text(0.5, 0, 'Date')"
      ]
     },
     "execution_count": 90,
     "metadata": {},
     "output_type": "execute_result"
    },
    {
     "data": {
      "image/png": "[encoded data removed]",
      "text/plain": [
       "<Figure size 576x360 with 1 Axes>"
      ]
     },
     "metadata": {
      "needs_background": "light"
     },
     "output_type": "display_data"
    }
   ],
   "source": [
    "plt.figure(figsize=(8, 5))\n",
    "\n",
    "sns.lineplot(x=leaflet['date'], y=leaflet['open_issue_count'], label=\"Open Requirement Count\")\n",
    "sns.lineplot(x=leaflet['date'], y=leaflet['contributor_count'], label=\"Contributor Count\")\n",
    "\n",
    "plt.legend(bbox_to_anchor=(0.01, 0.97), loc=2, borderaxespad=0.)\n",
    "plt.title('Leaflet', fontsize=18)\n",
    "plt.ylabel('Total Requirements\\nTotal Issues', fontsize=16)\n",
    "plt.xlabel('Date', fontsize=16)"
   ]
  },
  {
   "cell_type": "code",
   "execution_count": null,
   "metadata": {},
   "outputs": [],
   "source": []
  }
 ],
 "metadata": {
  "kernelspec": {
   "display_name": "Python 3",
   "language": "python",
   "name": "python3"
  },
  "language_info": {
   "codemirror_mode": {
    "name": "ipython",
    "version": 3
   },
   "file_extension": ".py",
   "mimetype": "text/x-python",
   "name": "python",
   "nbconvert_exporter": "python",
   "pygments_lexer": "ipython3",
   "version": "3.8.2"
  }
 },
 "nbformat": 4,
 "nbformat_minor": 4
}
